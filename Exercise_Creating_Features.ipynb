{
  "metadata": {
    "jupytext": {
      "cell_metadata_filter": "-all",
      "formats": "ipynb"
    },
    "kernelspec": {
      "display_name": "Python 3",
      "language": "python",
      "name": "python3"
    },
    "language_info": {
      "name": "python",
      "version": "3.10.14",
      "mimetype": "text/x-python",
      "codemirror_mode": {
        "name": "ipython",
        "version": 3
      },
      "pygments_lexer": "ipython3",
      "nbconvert_exporter": "python",
      "file_extension": ".py"
    },
    "kaggle": {
      "accelerator": "none",
      "dataSources": [
        {
          "sourceId": 1828856,
          "sourceType": "datasetVersion",
          "datasetId": 933090
        }
      ],
      "isInternetEnabled": false,
      "language": "python",
      "sourceType": "notebook",
      "isGpuEnabled": false
    },
    "colab": {
      "name": "Exercise: Creating Features",
      "provenance": [],
      "include_colab_link": true
    }
  },
  "nbformat_minor": 0,
  "nbformat": 4,
  "cells": [
    {
      "cell_type": "markdown",
      "metadata": {
        "id": "view-in-github",
        "colab_type": "text"
      },
      "source": [
        "<a href=\"https://colab.research.google.com/github/T-Sunm/Learn-Feature-Engineering-in-Kaggle/blob/main/Exercise_Creating_Features.ipynb\" target=\"_parent\"><img src=\"https://colab.research.google.com/assets/colab-badge.svg\" alt=\"Open In Colab\"/></a>"
      ]
    },
    {
      "source": [
        "\n",
        "# IMPORTANT: RUN THIS CELL IN ORDER TO IMPORT YOUR KAGGLE DATA SOURCES\n",
        "# TO THE CORRECT LOCATION (/kaggle/input) IN YOUR NOTEBOOK,\n",
        "# THEN FEEL FREE TO DELETE THIS CELL.\n",
        "# NOTE: THIS NOTEBOOK ENVIRONMENT DIFFERS FROM KAGGLE'S PYTHON\n",
        "# ENVIRONMENT SO THERE MAY BE MISSING LIBRARIES USED BY YOUR\n",
        "# NOTEBOOK.\n",
        "\n",
        "import os\n",
        "import sys\n",
        "from tempfile import NamedTemporaryFile\n",
        "from urllib.request import urlopen\n",
        "from urllib.parse import unquote, urlparse\n",
        "from urllib.error import HTTPError\n",
        "from zipfile import ZipFile\n",
        "import tarfile\n",
        "import shutil\n",
        "\n",
        "CHUNK_SIZE = 40960\n",
        "DATA_SOURCE_MAPPING = 'fe-course-data:https%3A%2F%2Fstorage.googleapis.com%2Fkaggle-data-sets%2F933090%2F1828856%2Fbundle%2Farchive.zip%3FX-Goog-Algorithm%3DGOOG4-RSA-SHA256%26X-Goog-Credential%3Dgcp-kaggle-com%2540kaggle-161607.iam.gserviceaccount.com%252F20240923%252Fauto%252Fstorage%252Fgoog4_request%26X-Goog-Date%3D20240923T152008Z%26X-Goog-Expires%3D259200%26X-Goog-SignedHeaders%3Dhost%26X-Goog-Signature%3D27401332d35f8aa9f55f94a49274357344c95e4b4bcc3b7de685a4a419f47574701b35f80ed138b19a1d1982a97d4fb2f73d03e69adbec606b9e9386bfd2bad37831483637a1d604503413fb37baa3760fe5db84479807bc5137183bf515f6345a93c72467b4d327f333085eeee52182b70eb78fcd7f470f735ac29f8695be321113790d795b6b18b8d4556c4b7abd180cc3702fd0434db2c947b33ff9c90e18ff5e24470bde7266d80afa5dabcd841cab14c5520b838ee9f99a7ecee12896ef3dac8f7b860c8182b4215ddf6e0bbf6c54ba4a41c3fe646b2ad6e9e492f106ee99c59f36d94097b897259368625edd546ce78271e6020aa6a33146c9348a6fc9'\n",
        "\n",
        "KAGGLE_INPUT_PATH='/kaggle/input'\n",
        "KAGGLE_WORKING_PATH='/kaggle/working'\n",
        "KAGGLE_SYMLINK='kaggle'\n",
        "\n",
        "!umount /kaggle/input/ 2> /dev/null\n",
        "shutil.rmtree('/kaggle/input', ignore_errors=True)\n",
        "os.makedirs(KAGGLE_INPUT_PATH, 0o777, exist_ok=True)\n",
        "os.makedirs(KAGGLE_WORKING_PATH, 0o777, exist_ok=True)\n",
        "\n",
        "try:\n",
        "  os.symlink(KAGGLE_INPUT_PATH, os.path.join(\"..\", 'input'), target_is_directory=True)\n",
        "except FileExistsError:\n",
        "  pass\n",
        "try:\n",
        "  os.symlink(KAGGLE_WORKING_PATH, os.path.join(\"..\", 'working'), target_is_directory=True)\n",
        "except FileExistsError:\n",
        "  pass\n",
        "\n",
        "for data_source_mapping in DATA_SOURCE_MAPPING.split(','):\n",
        "    directory, download_url_encoded = data_source_mapping.split(':')\n",
        "    download_url = unquote(download_url_encoded)\n",
        "    filename = urlparse(download_url).path\n",
        "    destination_path = os.path.join(KAGGLE_INPUT_PATH, directory)\n",
        "    try:\n",
        "        with urlopen(download_url) as fileres, NamedTemporaryFile() as tfile:\n",
        "            total_length = fileres.headers['content-length']\n",
        "            print(f'Downloading {directory}, {total_length} bytes compressed')\n",
        "            dl = 0\n",
        "            data = fileres.read(CHUNK_SIZE)\n",
        "            while len(data) > 0:\n",
        "                dl += len(data)\n",
        "                tfile.write(data)\n",
        "                done = int(50 * dl / int(total_length))\n",
        "                sys.stdout.write(f\"\\r[{'=' * done}{' ' * (50-done)}] {dl} bytes downloaded\")\n",
        "                sys.stdout.flush()\n",
        "                data = fileres.read(CHUNK_SIZE)\n",
        "            if filename.endswith('.zip'):\n",
        "              with ZipFile(tfile) as zfile:\n",
        "                zfile.extractall(destination_path)\n",
        "            else:\n",
        "              with tarfile.open(tfile.name) as tarfile:\n",
        "                tarfile.extractall(destination_path)\n",
        "            print(f'\\nDownloaded and uncompressed: {directory}')\n",
        "    except HTTPError as e:\n",
        "        print(f'Failed to load (likely expired) {download_url} to path {destination_path}')\n",
        "        continue\n",
        "    except OSError as e:\n",
        "        print(f'Failed to load {download_url} to path {destination_path}')\n",
        "        continue\n",
        "\n",
        "print('Data source import complete.')\n"
      ],
      "metadata": {
        "id": "ST6lZnZxd2-d"
      },
      "cell_type": "code",
      "outputs": [],
      "execution_count": null
    },
    {
      "cell_type": "markdown",
      "source": [
        "**This notebook is an exercise in the [Feature Engineering](https://www.kaggle.com/learn/feature-engineering) course.  You can reference the tutorial at [this link](https://www.kaggle.com/ryanholbrook/creating-features).**\n",
        "\n",
        "---\n"
      ],
      "metadata": {
        "id": "-sPZOIN6d2-e"
      }
    },
    {
      "cell_type": "markdown",
      "source": [
        "# Introduction #\n",
        "\n",
        "In this exercise you'll start developing the features you identified in Exercise 2 as having the most potential. As you work through this exercise, you might take a moment to look at the data documentation again and consider whether the features we're creating make sense from a real-world perspective, and whether there are any useful combinations that stand out to you.\n",
        "\n",
        "Run this cell to set everything up!"
      ],
      "metadata": {
        "id": "ZgNFz1Nfd2-f"
      }
    },
    {
      "cell_type": "code",
      "source": [
        "# Setup feedback system\n",
        "from learntools.core import binder\n",
        "binder.bind(globals())\n",
        "from learntools.feature_engineering_new.ex3 import *\n",
        "\n",
        "import numpy as np\n",
        "import pandas as pd\n",
        "from sklearn.model_selection import cross_val_score\n",
        "from xgboost import XGBRegressor\n",
        "\n",
        "\n",
        "def score_dataset(X, y, model=XGBRegressor()):\n",
        "    # Label encoding for categoricals\n",
        "    for colname in X.select_dtypes([\"category\", \"object\"]):\n",
        "        X[colname], _ = X[colname].factorize()\n",
        "    # Metric for Housing competition is RMSLE (Root Mean Squared Log Error)\n",
        "    score = cross_val_score(\n",
        "        model, X, y, cv=5, scoring=\"neg_mean_squared_log_error\",\n",
        "    )\n",
        "    score = -1 * score.mean()\n",
        "    score = np.sqrt(score)\n",
        "    return score\n",
        "\n",
        "\n",
        "# Prepare data\n",
        "df = pd.read_csv(\"../input/fe-course-data/ames.csv\")\n",
        "X = df.copy()\n",
        "y = X.pop(\"SalePrice\")"
      ],
      "metadata": {
        "execution": {
          "iopub.status.busy": "2024-09-21T03:12:47.944563Z",
          "iopub.execute_input": "2024-09-21T03:12:47.945019Z",
          "iopub.status.idle": "2024-09-21T03:12:50.481999Z",
          "shell.execute_reply.started": "2024-09-21T03:12:47.944974Z",
          "shell.execute_reply": "2024-09-21T03:12:50.480675Z"
        },
        "trusted": true,
        "id": "Mhn6E1hAd2-f"
      },
      "execution_count": null,
      "outputs": []
    },
    {
      "cell_type": "markdown",
      "source": [
        "-------------------------------------------------------------------------------\n",
        "\n",
        "Let's start with a few mathematical combinations. We'll focus on features describing areas -- having the same units (square-feet) makes it easy to combine them in sensible ways. Since we're using XGBoost (a tree-based model), we'll focus on ratios and sums.\n",
        "\n",
        "# 1) Create Mathematical Transforms\n",
        "\n",
        "Create the following features:\n",
        "\n",
        "- `LivLotRatio`: the ratio of `GrLivArea` to `LotArea`\n",
        "- `Spaciousness`: the sum of `FirstFlrSF` and `SecondFlrSF` divided by `TotRmsAbvGrd`\n",
        "- `TotalOutsideSF`: the sum of `WoodDeckSF`, `OpenPorchSF`, `EnclosedPorch`, `Threeseasonporch`, and `ScreenPorch`"
      ],
      "metadata": {
        "id": "5r7W6Taid2-g"
      }
    },
    {
      "cell_type": "code",
      "source": [
        "X.head()"
      ],
      "metadata": {
        "execution": {
          "iopub.status.busy": "2024-09-20T09:17:50.508024Z",
          "iopub.execute_input": "2024-09-20T09:17:50.508671Z",
          "iopub.status.idle": "2024-09-20T09:17:50.546223Z",
          "shell.execute_reply.started": "2024-09-20T09:17:50.508622Z",
          "shell.execute_reply": "2024-09-20T09:17:50.545134Z"
        },
        "trusted": true,
        "id": "nvsvG36Fd2-g",
        "outputId": "a8841c24-f7e2-4f96-b7f6-980d617329cc"
      },
      "execution_count": null,
      "outputs": [
        {
          "execution_count": 2,
          "output_type": "execute_result",
          "data": {
            "text/plain": "                            MSSubClass                  MSZoning  LotFrontage  \\\n0  One_Story_1946_and_Newer_All_Styles   Residential_Low_Density        141.0   \n1  One_Story_1946_and_Newer_All_Styles  Residential_High_Density         80.0   \n2  One_Story_1946_and_Newer_All_Styles   Residential_Low_Density         81.0   \n3  One_Story_1946_and_Newer_All_Styles   Residential_Low_Density         93.0   \n4             Two_Story_1946_and_Newer   Residential_Low_Density         74.0   \n\n   LotArea Street            Alley            LotShape LandContour Utilities  \\\n0  31770.0   Pave  No_Alley_Access  Slightly_Irregular         Lvl    AllPub   \n1  11622.0   Pave  No_Alley_Access             Regular         Lvl    AllPub   \n2  14267.0   Pave  No_Alley_Access  Slightly_Irregular         Lvl    AllPub   \n3  11160.0   Pave  No_Alley_Access             Regular         Lvl    AllPub   \n4  13830.0   Pave  No_Alley_Access  Slightly_Irregular         Lvl    AllPub   \n\n  LotConfig  ... ScreenPorch PoolArea   PoolQC            Fence MiscFeature  \\\n0    Corner  ...         0.0      0.0  No_Pool         No_Fence         NaN   \n1    Inside  ...       120.0      0.0  No_Pool  Minimum_Privacy         NaN   \n2    Corner  ...         0.0      0.0  No_Pool         No_Fence        Gar2   \n3    Corner  ...         0.0      0.0  No_Pool         No_Fence         NaN   \n4    Inside  ...         0.0      0.0  No_Pool  Minimum_Privacy         NaN   \n\n   MiscVal MoSold YearSold  SaleType  SaleCondition  \n0      0.0      5     2010       WD          Normal  \n1      0.0      6     2010       WD          Normal  \n2  12500.0      6     2010       WD          Normal  \n3      0.0      4     2010       WD          Normal  \n4      0.0      3     2010       WD          Normal  \n\n[5 rows x 78 columns]",
            "text/html": "<div>\n<style scoped>\n    .dataframe tbody tr th:only-of-type {\n        vertical-align: middle;\n    }\n\n    .dataframe tbody tr th {\n        vertical-align: top;\n    }\n\n    .dataframe thead th {\n        text-align: right;\n    }\n</style>\n<table border=\"1\" class=\"dataframe\">\n  <thead>\n    <tr style=\"text-align: right;\">\n      <th></th>\n      <th>MSSubClass</th>\n      <th>MSZoning</th>\n      <th>LotFrontage</th>\n      <th>LotArea</th>\n      <th>Street</th>\n      <th>Alley</th>\n      <th>LotShape</th>\n      <th>LandContour</th>\n      <th>Utilities</th>\n      <th>LotConfig</th>\n      <th>...</th>\n      <th>ScreenPorch</th>\n      <th>PoolArea</th>\n      <th>PoolQC</th>\n      <th>Fence</th>\n      <th>MiscFeature</th>\n      <th>MiscVal</th>\n      <th>MoSold</th>\n      <th>YearSold</th>\n      <th>SaleType</th>\n      <th>SaleCondition</th>\n    </tr>\n  </thead>\n  <tbody>\n    <tr>\n      <th>0</th>\n      <td>One_Story_1946_and_Newer_All_Styles</td>\n      <td>Residential_Low_Density</td>\n      <td>141.0</td>\n      <td>31770.0</td>\n      <td>Pave</td>\n      <td>No_Alley_Access</td>\n      <td>Slightly_Irregular</td>\n      <td>Lvl</td>\n      <td>AllPub</td>\n      <td>Corner</td>\n      <td>...</td>\n      <td>0.0</td>\n      <td>0.0</td>\n      <td>No_Pool</td>\n      <td>No_Fence</td>\n      <td>NaN</td>\n      <td>0.0</td>\n      <td>5</td>\n      <td>2010</td>\n      <td>WD</td>\n      <td>Normal</td>\n    </tr>\n    <tr>\n      <th>1</th>\n      <td>One_Story_1946_and_Newer_All_Styles</td>\n      <td>Residential_High_Density</td>\n      <td>80.0</td>\n      <td>11622.0</td>\n      <td>Pave</td>\n      <td>No_Alley_Access</td>\n      <td>Regular</td>\n      <td>Lvl</td>\n      <td>AllPub</td>\n      <td>Inside</td>\n      <td>...</td>\n      <td>120.0</td>\n      <td>0.0</td>\n      <td>No_Pool</td>\n      <td>Minimum_Privacy</td>\n      <td>NaN</td>\n      <td>0.0</td>\n      <td>6</td>\n      <td>2010</td>\n      <td>WD</td>\n      <td>Normal</td>\n    </tr>\n    <tr>\n      <th>2</th>\n      <td>One_Story_1946_and_Newer_All_Styles</td>\n      <td>Residential_Low_Density</td>\n      <td>81.0</td>\n      <td>14267.0</td>\n      <td>Pave</td>\n      <td>No_Alley_Access</td>\n      <td>Slightly_Irregular</td>\n      <td>Lvl</td>\n      <td>AllPub</td>\n      <td>Corner</td>\n      <td>...</td>\n      <td>0.0</td>\n      <td>0.0</td>\n      <td>No_Pool</td>\n      <td>No_Fence</td>\n      <td>Gar2</td>\n      <td>12500.0</td>\n      <td>6</td>\n      <td>2010</td>\n      <td>WD</td>\n      <td>Normal</td>\n    </tr>\n    <tr>\n      <th>3</th>\n      <td>One_Story_1946_and_Newer_All_Styles</td>\n      <td>Residential_Low_Density</td>\n      <td>93.0</td>\n      <td>11160.0</td>\n      <td>Pave</td>\n      <td>No_Alley_Access</td>\n      <td>Regular</td>\n      <td>Lvl</td>\n      <td>AllPub</td>\n      <td>Corner</td>\n      <td>...</td>\n      <td>0.0</td>\n      <td>0.0</td>\n      <td>No_Pool</td>\n      <td>No_Fence</td>\n      <td>NaN</td>\n      <td>0.0</td>\n      <td>4</td>\n      <td>2010</td>\n      <td>WD</td>\n      <td>Normal</td>\n    </tr>\n    <tr>\n      <th>4</th>\n      <td>Two_Story_1946_and_Newer</td>\n      <td>Residential_Low_Density</td>\n      <td>74.0</td>\n      <td>13830.0</td>\n      <td>Pave</td>\n      <td>No_Alley_Access</td>\n      <td>Slightly_Irregular</td>\n      <td>Lvl</td>\n      <td>AllPub</td>\n      <td>Inside</td>\n      <td>...</td>\n      <td>0.0</td>\n      <td>0.0</td>\n      <td>No_Pool</td>\n      <td>Minimum_Privacy</td>\n      <td>NaN</td>\n      <td>0.0</td>\n      <td>3</td>\n      <td>2010</td>\n      <td>WD</td>\n      <td>Normal</td>\n    </tr>\n  </tbody>\n</table>\n<p>5 rows × 78 columns</p>\n</div>"
          },
          "metadata": {}
        }
      ]
    },
    {
      "cell_type": "markdown",
      "source": [
        "`LivLotRatio`\n",
        "Ý nghĩa: Tỷ lệ này cho biết bao nhiêu phần trăm của lô đất được sử dụng để xây dựng không gian sinh hoạt.\n",
        "- Tỷ lệ cao có thể cho thấy lô đất nhỏ nhưng ngôi nhà lớn, có thể chỉ ra sự sử dụng tối đa diện tích lô đất.\n",
        "- Tỷ lệ thấp có thể cho thấy ngôi nhà chiếm một phần nhỏ của lô đất, có nhiều diện tích sân vườn hoặc không gian ngoài trời.\n",
        "\n",
        "`Spaciousness` đo lường mức độ rộng rãi của từng phòng trong ngôi nhà. Nó phản ánh diện tích trung bình của mỗi phòng trên mặt đất."
      ],
      "metadata": {
        "id": "hDCvdzaQd2-g"
      }
    },
    {
      "cell_type": "code",
      "source": [
        "# YOUR CODE HERE\n",
        "X_1 = pd.DataFrame()  # dataframe to hold new features\n",
        "\n",
        "X_1[\"LivLotRatio\"] = X['GrLivArea'] / X['LotArea']\n",
        "X_1[\"Spaciousness\"] = (X['FirstFlrSF'] + X['SecondFlrSF']) / X['TotRmsAbvGrd']\n",
        "X_1[\"TotalOutsideSF\"] = (X['WoodDeckSF'] + X['OpenPorchSF'] + X['EnclosedPorch'] + X['Threeseasonporch'] + X['ScreenPorch'])\n",
        "\n",
        "\n",
        "# Check your answer\n",
        "q_1.check()"
      ],
      "metadata": {
        "lines_to_next_cell": 0,
        "execution": {
          "iopub.status.busy": "2024-09-21T03:31:42.571983Z",
          "iopub.execute_input": "2024-09-21T03:31:42.573279Z",
          "iopub.status.idle": "2024-09-21T03:31:42.594452Z",
          "shell.execute_reply.started": "2024-09-21T03:31:42.57322Z",
          "shell.execute_reply": "2024-09-21T03:31:42.592874Z"
        },
        "trusted": true,
        "id": "f9oq-19zd2-h",
        "outputId": "1349e077-813d-4e99-c8c2-74392837972e"
      },
      "execution_count": null,
      "outputs": [
        {
          "output_type": "display_data",
          "data": {
            "text/plain": "<IPython.core.display.Javascript object>",
            "application/javascript": "parent.postMessage({\"jupyterEvent\": \"custom.exercise_interaction\", \"data\": {\"outcomeType\": 1, \"valueTowardsCompletion\": 0.2, \"interactionType\": 1, \"questionType\": 2, \"questionId\": \"1_Q1\", \"learnToolsVersion\": \"0.3.4\", \"failureMessage\": \"\", \"exceptionClass\": \"\", \"trace\": \"\"}}, \"*\")"
          },
          "metadata": {}
        },
        {
          "output_type": "display_data",
          "data": {
            "text/plain": "Correct",
            "text/markdown": "<span style=\"color:#33cc33\">Correct</span>"
          },
          "metadata": {}
        }
      ]
    },
    {
      "cell_type": "code",
      "source": [
        "# Lines below will give you a hint or solution code\n",
        "#q_1.hint()\n",
        "#q_1.solution()"
      ],
      "metadata": {
        "lines_to_next_cell": 0,
        "id": "lTA_SfAGd2-h"
      },
      "execution_count": null,
      "outputs": []
    },
    {
      "cell_type": "markdown",
      "source": [
        "-------------------------------------------------------------------------------\n",
        "\n",
        "If you've discovered an interaction effect between a numeric feature and a categorical feature, you might want to model it explicitly using a one-hot encoding, like so:\n",
        "\n",
        "```\n",
        "# One-hot encode Categorical feature, adding a column prefix \"Cat\"\n",
        "X_new = pd.get_dummies(df.Categorical, prefix=\"Cat\")\n",
        "\n",
        "# Multiply row-by-row\n",
        "X_new = X_new.mul(df.Continuous, axis=0)\n",
        "\n",
        "# Join the new features to the feature set\n",
        "X = X.join(X_new)\n",
        "```\n",
        "\n",
        "# 2) Interaction with a Categorical\n",
        "\n",
        "We discovered an interaction between `BldgType` and `GrLivArea` in Exercise 2. Now create their interaction features.\n",
        "\n",
        "- bạn muốn xem xét xem tác động của GrLivArea lên giá trị nhà thay đổi thế nào tùy thuộc vào loại tòa nhà (BldgType). xài hàm get_dummies() để tạo 0-1, hàm mul để nhân giữa Dataframe/Series"
      ],
      "metadata": {
        "id": "kp31z9cnd2-i"
      }
    },
    {
      "cell_type": "code",
      "source": [
        "X_2 = pd.get_dummies(df.BldgType, prefix=\"Type\")\n",
        "X_2.head(3)"
      ],
      "metadata": {
        "execution": {
          "iopub.status.busy": "2024-09-21T03:57:08.05865Z",
          "iopub.execute_input": "2024-09-21T03:57:08.059166Z",
          "iopub.status.idle": "2024-09-21T03:57:08.07716Z",
          "shell.execute_reply.started": "2024-09-21T03:57:08.059103Z",
          "shell.execute_reply": "2024-09-21T03:57:08.075724Z"
        },
        "trusted": true,
        "id": "Qx08V6_4d2-i",
        "outputId": "5efdb919-80ff-41b2-f5e5-77ed1eca20f1"
      },
      "execution_count": null,
      "outputs": [
        {
          "execution_count": 11,
          "output_type": "execute_result",
          "data": {
            "text/plain": "   Type_Duplex  Type_OneFam  Type_Twnhs  Type_TwnhsE  Type_TwoFmCon\n0        False         True       False        False          False\n1        False         True       False        False          False\n2        False         True       False        False          False",
            "text/html": "<div>\n<style scoped>\n    .dataframe tbody tr th:only-of-type {\n        vertical-align: middle;\n    }\n\n    .dataframe tbody tr th {\n        vertical-align: top;\n    }\n\n    .dataframe thead th {\n        text-align: right;\n    }\n</style>\n<table border=\"1\" class=\"dataframe\">\n  <thead>\n    <tr style=\"text-align: right;\">\n      <th></th>\n      <th>Type_Duplex</th>\n      <th>Type_OneFam</th>\n      <th>Type_Twnhs</th>\n      <th>Type_TwnhsE</th>\n      <th>Type_TwoFmCon</th>\n    </tr>\n  </thead>\n  <tbody>\n    <tr>\n      <th>0</th>\n      <td>False</td>\n      <td>True</td>\n      <td>False</td>\n      <td>False</td>\n      <td>False</td>\n    </tr>\n    <tr>\n      <th>1</th>\n      <td>False</td>\n      <td>True</td>\n      <td>False</td>\n      <td>False</td>\n      <td>False</td>\n    </tr>\n    <tr>\n      <th>2</th>\n      <td>False</td>\n      <td>True</td>\n      <td>False</td>\n      <td>False</td>\n      <td>False</td>\n    </tr>\n  </tbody>\n</table>\n</div>"
          },
          "metadata": {}
        }
      ]
    },
    {
      "cell_type": "code",
      "source": [
        "X_2.mul(df.GrLivArea, axis = 0).head(3)"
      ],
      "metadata": {
        "execution": {
          "iopub.status.busy": "2024-09-21T04:02:35.578614Z",
          "iopub.execute_input": "2024-09-21T04:02:35.579151Z",
          "iopub.status.idle": "2024-09-21T04:02:35.596297Z",
          "shell.execute_reply.started": "2024-09-21T04:02:35.57909Z",
          "shell.execute_reply": "2024-09-21T04:02:35.594914Z"
        },
        "trusted": true,
        "id": "Zbfzm-Odd2-i",
        "outputId": "68688e2f-c2a2-4374-dd63-d34d51c32ef1"
      },
      "execution_count": null,
      "outputs": [
        {
          "execution_count": 19,
          "output_type": "execute_result",
          "data": {
            "text/plain": "   Bldg_Duplex  Bldg_OneFam  Bldg_Twnhs  Bldg_TwnhsE  Bldg_TwoFmCon\n0          0.0    2742336.0         0.0          0.0            0.0\n1          0.0     802816.0         0.0          0.0            0.0\n2          0.0    1766241.0         0.0          0.0            0.0",
            "text/html": "<div>\n<style scoped>\n    .dataframe tbody tr th:only-of-type {\n        vertical-align: middle;\n    }\n\n    .dataframe tbody tr th {\n        vertical-align: top;\n    }\n\n    .dataframe thead th {\n        text-align: right;\n    }\n</style>\n<table border=\"1\" class=\"dataframe\">\n  <thead>\n    <tr style=\"text-align: right;\">\n      <th></th>\n      <th>Bldg_Duplex</th>\n      <th>Bldg_OneFam</th>\n      <th>Bldg_Twnhs</th>\n      <th>Bldg_TwnhsE</th>\n      <th>Bldg_TwoFmCon</th>\n    </tr>\n  </thead>\n  <tbody>\n    <tr>\n      <th>0</th>\n      <td>0.0</td>\n      <td>2742336.0</td>\n      <td>0.0</td>\n      <td>0.0</td>\n      <td>0.0</td>\n    </tr>\n    <tr>\n      <th>1</th>\n      <td>0.0</td>\n      <td>802816.0</td>\n      <td>0.0</td>\n      <td>0.0</td>\n      <td>0.0</td>\n    </tr>\n    <tr>\n      <th>2</th>\n      <td>0.0</td>\n      <td>1766241.0</td>\n      <td>0.0</td>\n      <td>0.0</td>\n      <td>0.0</td>\n    </tr>\n  </tbody>\n</table>\n</div>"
          },
          "metadata": {}
        }
      ]
    },
    {
      "cell_type": "code",
      "source": [
        "# YOUR CODE HERE\n",
        "# One-hot encode BldgType. Use `prefix=\"Bldg\"` in `get_dummies`\n",
        "X_2 = pd.get_dummies(df.BldgType, prefix=\"Bldg\")\n",
        "# Multiply\n",
        "X_2 = X_2.mul(df.GrLivArea, axis = 0)\n",
        "\n",
        "\n",
        "# Check your answer\n",
        "q_2.check()\n",
        "X_2"
      ],
      "metadata": {
        "lines_to_next_cell": 0,
        "execution": {
          "iopub.status.busy": "2024-09-21T05:01:56.377179Z",
          "iopub.execute_input": "2024-09-21T05:01:56.377683Z",
          "iopub.status.idle": "2024-09-21T05:01:56.412207Z",
          "shell.execute_reply.started": "2024-09-21T05:01:56.377629Z",
          "shell.execute_reply": "2024-09-21T05:01:56.410974Z"
        },
        "trusted": true,
        "id": "vqZCMAWid2-i",
        "outputId": "6e8358d7-3808-4698-9650-5db2b770f324"
      },
      "execution_count": null,
      "outputs": [
        {
          "output_type": "display_data",
          "data": {
            "text/plain": "<IPython.core.display.Javascript object>",
            "application/javascript": "parent.postMessage({\"jupyterEvent\": \"custom.exercise_interaction\", \"data\": {\"outcomeType\": 1, \"valueTowardsCompletion\": 0.2, \"interactionType\": 1, \"questionType\": 2, \"questionId\": \"2_Q2\", \"learnToolsVersion\": \"0.3.4\", \"failureMessage\": \"\", \"exceptionClass\": \"\", \"trace\": \"\"}}, \"*\")"
          },
          "metadata": {}
        },
        {
          "output_type": "display_data",
          "data": {
            "text/plain": "Correct",
            "text/markdown": "<span style=\"color:#33cc33\">Correct</span>"
          },
          "metadata": {}
        },
        {
          "execution_count": 46,
          "output_type": "execute_result",
          "data": {
            "text/plain": "      Bldg_Duplex  Bldg_OneFam  Bldg_Twnhs  Bldg_TwnhsE  Bldg_TwoFmCon\n0             0.0       1656.0         0.0          0.0            0.0\n1             0.0        896.0         0.0          0.0            0.0\n2             0.0       1329.0         0.0          0.0            0.0\n3             0.0       2110.0         0.0          0.0            0.0\n4             0.0       1629.0         0.0          0.0            0.0\n...           ...          ...         ...          ...            ...\n2925          0.0       1003.0         0.0          0.0            0.0\n2926          0.0        902.0         0.0          0.0            0.0\n2927          0.0        970.0         0.0          0.0            0.0\n2928          0.0       1389.0         0.0          0.0            0.0\n2929          0.0       2000.0         0.0          0.0            0.0\n\n[2930 rows x 5 columns]",
            "text/html": "<div>\n<style scoped>\n    .dataframe tbody tr th:only-of-type {\n        vertical-align: middle;\n    }\n\n    .dataframe tbody tr th {\n        vertical-align: top;\n    }\n\n    .dataframe thead th {\n        text-align: right;\n    }\n</style>\n<table border=\"1\" class=\"dataframe\">\n  <thead>\n    <tr style=\"text-align: right;\">\n      <th></th>\n      <th>Bldg_Duplex</th>\n      <th>Bldg_OneFam</th>\n      <th>Bldg_Twnhs</th>\n      <th>Bldg_TwnhsE</th>\n      <th>Bldg_TwoFmCon</th>\n    </tr>\n  </thead>\n  <tbody>\n    <tr>\n      <th>0</th>\n      <td>0.0</td>\n      <td>1656.0</td>\n      <td>0.0</td>\n      <td>0.0</td>\n      <td>0.0</td>\n    </tr>\n    <tr>\n      <th>1</th>\n      <td>0.0</td>\n      <td>896.0</td>\n      <td>0.0</td>\n      <td>0.0</td>\n      <td>0.0</td>\n    </tr>\n    <tr>\n      <th>2</th>\n      <td>0.0</td>\n      <td>1329.0</td>\n      <td>0.0</td>\n      <td>0.0</td>\n      <td>0.0</td>\n    </tr>\n    <tr>\n      <th>3</th>\n      <td>0.0</td>\n      <td>2110.0</td>\n      <td>0.0</td>\n      <td>0.0</td>\n      <td>0.0</td>\n    </tr>\n    <tr>\n      <th>4</th>\n      <td>0.0</td>\n      <td>1629.0</td>\n      <td>0.0</td>\n      <td>0.0</td>\n      <td>0.0</td>\n    </tr>\n    <tr>\n      <th>...</th>\n      <td>...</td>\n      <td>...</td>\n      <td>...</td>\n      <td>...</td>\n      <td>...</td>\n    </tr>\n    <tr>\n      <th>2925</th>\n      <td>0.0</td>\n      <td>1003.0</td>\n      <td>0.0</td>\n      <td>0.0</td>\n      <td>0.0</td>\n    </tr>\n    <tr>\n      <th>2926</th>\n      <td>0.0</td>\n      <td>902.0</td>\n      <td>0.0</td>\n      <td>0.0</td>\n      <td>0.0</td>\n    </tr>\n    <tr>\n      <th>2927</th>\n      <td>0.0</td>\n      <td>970.0</td>\n      <td>0.0</td>\n      <td>0.0</td>\n      <td>0.0</td>\n    </tr>\n    <tr>\n      <th>2928</th>\n      <td>0.0</td>\n      <td>1389.0</td>\n      <td>0.0</td>\n      <td>0.0</td>\n      <td>0.0</td>\n    </tr>\n    <tr>\n      <th>2929</th>\n      <td>0.0</td>\n      <td>2000.0</td>\n      <td>0.0</td>\n      <td>0.0</td>\n      <td>0.0</td>\n    </tr>\n  </tbody>\n</table>\n<p>2930 rows × 5 columns</p>\n</div>"
          },
          "metadata": {}
        }
      ]
    },
    {
      "cell_type": "code",
      "source": [
        "# Lines below will give you a hint or solution code\n",
        "#q_2.hint()\n",
        "#q_2.solution()"
      ],
      "metadata": {
        "lines_to_next_cell": 0,
        "id": "K82AvtBZd2-i"
      },
      "execution_count": null,
      "outputs": []
    },
    {
      "cell_type": "markdown",
      "source": [
        "# 3) Count Feature\n",
        "\n",
        "Let's try creating a feature that describes how many kinds of outdoor areas a dwelling has. Create a feature `PorchTypes` that counts how many of the following are greater than 0.0:\n",
        "\n",
        "```\n",
        "WoodDeckSF\n",
        "OpenPorchSF\n",
        "EnclosedPorch\n",
        "Threeseasonporch\n",
        "ScreenPorch\n",
        "```"
      ],
      "metadata": {
        "lines_to_next_cell": 0,
        "id": "CWqeXy34d2-j"
      }
    },
    {
      "cell_type": "code",
      "source": [
        "X_3 = pd.DataFrame()\n",
        "\n",
        "component = ['WoodDeckSF', 'OpenPorchSF', 'EnclosedPorch', 'Threeseasonporch', 'ScreenPorch']\n",
        "# YOUR CODE HERE\n",
        "X_3[\"PorchTypes\"] = df[component].gt(0.0).sum(axis = 1)\n",
        "\n",
        "\n",
        "# Check your answer\n",
        "q_3.check()"
      ],
      "metadata": {
        "lines_to_next_cell": 0,
        "execution": {
          "iopub.status.busy": "2024-09-21T04:09:27.53266Z",
          "iopub.execute_input": "2024-09-21T04:09:27.533113Z",
          "iopub.status.idle": "2024-09-21T04:09:27.555637Z",
          "shell.execute_reply.started": "2024-09-21T04:09:27.533072Z",
          "shell.execute_reply": "2024-09-21T04:09:27.553898Z"
        },
        "trusted": true,
        "id": "2SdcyBWfd2-j",
        "outputId": "f9906355-eb87-4771-a809-911f499af902"
      },
      "execution_count": null,
      "outputs": [
        {
          "output_type": "display_data",
          "data": {
            "text/plain": "<IPython.core.display.Javascript object>",
            "application/javascript": "parent.postMessage({\"jupyterEvent\": \"custom.exercise_interaction\", \"data\": {\"outcomeType\": 1, \"valueTowardsCompletion\": 0.2, \"interactionType\": 1, \"questionType\": 2, \"questionId\": \"3_Q3\", \"learnToolsVersion\": \"0.3.4\", \"failureMessage\": \"\", \"exceptionClass\": \"\", \"trace\": \"\"}}, \"*\")"
          },
          "metadata": {}
        },
        {
          "output_type": "display_data",
          "data": {
            "text/plain": "Correct",
            "text/markdown": "<span style=\"color:#33cc33\">Correct</span>"
          },
          "metadata": {}
        }
      ]
    },
    {
      "cell_type": "code",
      "source": [
        "# Lines below will give you a hint or solution code\n",
        "#q_3.hint()\n",
        "#q_3.solution()"
      ],
      "metadata": {
        "lines_to_next_cell": 0,
        "id": "XWt5na7Xd2-j"
      },
      "execution_count": null,
      "outputs": []
    },
    {
      "cell_type": "markdown",
      "source": [
        "# 4) Break Down a Categorical Feature\n",
        "\n",
        "`MSSubClass` describes the type of a dwelling:"
      ],
      "metadata": {
        "id": "rgrDSHkVd2-j"
      }
    },
    {
      "cell_type": "code",
      "source": [
        "df.MSSubClass.unique()"
      ],
      "metadata": {
        "execution": {
          "iopub.status.busy": "2024-09-21T04:09:39.395452Z",
          "iopub.execute_input": "2024-09-21T04:09:39.395974Z",
          "iopub.status.idle": "2024-09-21T04:09:39.406055Z",
          "shell.execute_reply.started": "2024-09-21T04:09:39.395926Z",
          "shell.execute_reply": "2024-09-21T04:09:39.404602Z"
        },
        "trusted": true,
        "id": "TsbjzIyJd2-j",
        "outputId": "58ebfcb7-a9c0-4f23-d372-6c3807ea0213"
      },
      "execution_count": null,
      "outputs": [
        {
          "execution_count": 26,
          "output_type": "execute_result",
          "data": {
            "text/plain": "array(['One_Story_1946_and_Newer_All_Styles', 'Two_Story_1946_and_Newer',\n       'One_Story_PUD_1946_and_Newer',\n       'One_and_Half_Story_Finished_All_Ages', 'Split_Foyer',\n       'Two_Story_PUD_1946_and_Newer', 'Split_or_Multilevel',\n       'One_Story_1945_and_Older', 'Duplex_All_Styles_and_Ages',\n       'Two_Family_conversion_All_Styles_and_Ages',\n       'One_and_Half_Story_Unfinished_All_Ages',\n       'Two_Story_1945_and_Older', 'Two_and_Half_Story_All_Ages',\n       'One_Story_with_Finished_Attic_All_Ages',\n       'PUD_Multilevel_Split_Level_Foyer',\n       'One_and_Half_Story_PUD_All_Ages'], dtype=object)"
          },
          "metadata": {}
        }
      ]
    },
    {
      "cell_type": "markdown",
      "source": [
        "You can see that there is a more general categorization described (roughly) by the first word of each category. Create a feature containing only these first words by splitting `MSSubClass` at the first underscore `_`. (Hint: In the `split` method use an argument `n=1`.)"
      ],
      "metadata": {
        "id": "yFVHHhB2d2-j"
      }
    },
    {
      "cell_type": "code",
      "source": [
        "df[\"MSSubClass\"].str.split('_')"
      ],
      "metadata": {
        "execution": {
          "iopub.status.busy": "2024-09-21T04:14:12.51623Z",
          "iopub.execute_input": "2024-09-21T04:14:12.516786Z",
          "iopub.status.idle": "2024-09-21T04:14:12.534149Z",
          "shell.execute_reply.started": "2024-09-21T04:14:12.516736Z",
          "shell.execute_reply": "2024-09-21T04:14:12.532481Z"
        },
        "trusted": true,
        "id": "IxabuMQ8d2-j",
        "outputId": "4ad63501-dadb-4243-b7af-8fc0f8e00815"
      },
      "execution_count": null,
      "outputs": [
        {
          "execution_count": 30,
          "output_type": "execute_result",
          "data": {
            "text/plain": "0       [One, Story, 1946, and, Newer, All, Styles]\n1       [One, Story, 1946, and, Newer, All, Styles]\n2       [One, Story, 1946, and, Newer, All, Styles]\n3       [One, Story, 1946, and, Newer, All, Styles]\n4                    [Two, Story, 1946, and, Newer]\n                           ...                     \n2925                        [Split, or, Multilevel]\n2926    [One, Story, 1946, and, Newer, All, Styles]\n2927                                 [Split, Foyer]\n2928    [One, Story, 1946, and, Newer, All, Styles]\n2929                 [Two, Story, 1946, and, Newer]\nName: MSSubClass, Length: 2930, dtype: object"
          },
          "metadata": {}
        }
      ]
    },
    {
      "cell_type": "code",
      "source": [
        "X_4 = pd.DataFrame()\n",
        "\n",
        "X_4[\"MSClass\"] = df[\"MSSubClass\"].str.split('_', n = 1, expand = True)[0]\n",
        "\n",
        "# Check your answer\n",
        "q_4.check()"
      ],
      "metadata": {
        "lines_to_next_cell": 0,
        "execution": {
          "iopub.status.busy": "2024-09-21T04:19:55.257884Z",
          "iopub.execute_input": "2024-09-21T04:19:55.258637Z",
          "iopub.status.idle": "2024-09-21T04:19:55.292746Z",
          "shell.execute_reply.started": "2024-09-21T04:19:55.25857Z",
          "shell.execute_reply": "2024-09-21T04:19:55.291089Z"
        },
        "trusted": true,
        "id": "V9i_nwxId2-j",
        "outputId": "09f9b1fb-1afc-4e3e-f3a5-a12a783972cc"
      },
      "execution_count": null,
      "outputs": [
        {
          "output_type": "display_data",
          "data": {
            "text/plain": "<IPython.core.display.Javascript object>",
            "application/javascript": "parent.postMessage({\"jupyterEvent\": \"custom.exercise_interaction\", \"data\": {\"outcomeType\": 1, \"valueTowardsCompletion\": 0.2, \"interactionType\": 1, \"questionType\": 2, \"questionId\": \"4_Q4\", \"learnToolsVersion\": \"0.3.4\", \"failureMessage\": \"\", \"exceptionClass\": \"\", \"trace\": \"\"}}, \"*\")"
          },
          "metadata": {}
        },
        {
          "output_type": "display_data",
          "data": {
            "text/plain": "Correct",
            "text/markdown": "<span style=\"color:#33cc33\">Correct</span>"
          },
          "metadata": {}
        }
      ]
    },
    {
      "cell_type": "code",
      "source": [
        "# Lines below will give you a hint or solution code\n",
        "#q_4.hint()\n",
        "#q_4.solution()"
      ],
      "metadata": {
        "lines_to_next_cell": 0,
        "id": "zAW7pcrhd2-k"
      },
      "execution_count": null,
      "outputs": []
    },
    {
      "cell_type": "markdown",
      "source": [
        "# 5) Use a Grouped Transform\n",
        "\n",
        "The value of a home often depends on how it compares to typical homes in its neighborhood. Create a feature `MedNhbdArea` that describes the *median* of `GrLivArea` grouped on `Neighborhood`.\n",
        "- neighborhood còn dịch là địa điểm của căn nha"
      ],
      "metadata": {
        "id": "DSYfW6ACd2-k"
      }
    },
    {
      "cell_type": "code",
      "source": [
        "df.groupby(['Neighborhood'])['GrLivArea'].transform('median')"
      ],
      "metadata": {
        "execution": {
          "iopub.status.busy": "2024-09-21T04:34:41.986555Z",
          "iopub.execute_input": "2024-09-21T04:34:41.987021Z",
          "iopub.status.idle": "2024-09-21T04:34:42.005423Z",
          "shell.execute_reply.started": "2024-09-21T04:34:41.986979Z",
          "shell.execute_reply": "2024-09-21T04:34:42.003855Z"
        },
        "trusted": true,
        "id": "-KRehm_5d2-k",
        "outputId": "c63ed89e-c01e-427e-efdd-248d236cda11"
      },
      "execution_count": null,
      "outputs": [
        {
          "execution_count": 41,
          "output_type": "execute_result",
          "data": {
            "text/plain": "0       1200.0\n1       1200.0\n2       1200.0\n3       1200.0\n4       1560.0\n         ...  \n2925    1282.0\n2926    1282.0\n2927    1282.0\n2928    1282.0\n2929    1282.0\nName: GrLivArea, Length: 2930, dtype: float64"
          },
          "metadata": {}
        }
      ]
    },
    {
      "cell_type": "code",
      "source": [
        "X_5 = pd.DataFrame()\n",
        "\n",
        "# YOUR CODE HERE\n",
        "X_5[\"MedNhbdArea\"] = df.groupby(['Neighborhood'])['GrLivArea'].transform('median')\n",
        "\n",
        "# Check your answer\n",
        "q_5.check()"
      ],
      "metadata": {
        "lines_to_next_cell": 0,
        "execution": {
          "iopub.status.busy": "2024-09-21T04:34:49.39696Z",
          "iopub.execute_input": "2024-09-21T04:34:49.397479Z",
          "iopub.status.idle": "2024-09-21T04:34:49.418252Z",
          "shell.execute_reply.started": "2024-09-21T04:34:49.397431Z",
          "shell.execute_reply": "2024-09-21T04:34:49.416835Z"
        },
        "trusted": true,
        "id": "4696jcS7d2-k",
        "outputId": "9a3ba679-9d17-4c32-a415-ca6fab43533e"
      },
      "execution_count": null,
      "outputs": [
        {
          "output_type": "display_data",
          "data": {
            "text/plain": "<IPython.core.display.Javascript object>",
            "application/javascript": "parent.postMessage({\"jupyterEvent\": \"custom.exercise_interaction\", \"data\": {\"outcomeType\": 1, \"valueTowardsCompletion\": 0.2, \"interactionType\": 1, \"questionType\": 2, \"questionId\": \"5_Q5\", \"learnToolsVersion\": \"0.3.4\", \"failureMessage\": \"\", \"exceptionClass\": \"\", \"trace\": \"\"}}, \"*\")"
          },
          "metadata": {}
        },
        {
          "output_type": "display_data",
          "data": {
            "text/plain": "Correct",
            "text/markdown": "<span style=\"color:#33cc33\">Correct</span>"
          },
          "metadata": {}
        }
      ]
    },
    {
      "cell_type": "code",
      "source": [
        "# Lines below will give you a hint or solution code\n",
        "#q_5.hint()\n",
        "#q_5.solution()"
      ],
      "metadata": {
        "lines_to_next_cell": 0,
        "id": "HdPNEqnWd2-k"
      },
      "execution_count": null,
      "outputs": []
    },
    {
      "cell_type": "markdown",
      "source": [
        "Now you've made your first new feature set! If you like, you can run the cell below to score the model with all of your new features added:"
      ],
      "metadata": {
        "id": "bWvP3XNpd2-k"
      }
    },
    {
      "cell_type": "code",
      "source": [
        "X_new = X.join([X_1, X_2, X_3, X_4, X_5])\n",
        "score_dataset(X_new, y)"
      ],
      "metadata": {
        "execution": {
          "iopub.status.busy": "2024-09-21T04:35:10.237525Z",
          "iopub.execute_input": "2024-09-21T04:35:10.238059Z",
          "iopub.status.idle": "2024-09-21T04:35:13.382554Z",
          "shell.execute_reply.started": "2024-09-21T04:35:10.238014Z",
          "shell.execute_reply": "2024-09-21T04:35:13.381458Z"
        },
        "trusted": true,
        "id": "ECtDzqjSd2-k",
        "outputId": "72f60b2a-81c3-4b28-e870-6300dc99f9aa"
      },
      "execution_count": null,
      "outputs": [
        {
          "execution_count": 43,
          "output_type": "execute_result",
          "data": {
            "text/plain": "0.13954039591355258"
          },
          "metadata": {}
        }
      ]
    },
    {
      "cell_type": "code",
      "source": [
        "X_new"
      ],
      "metadata": {
        "execution": {
          "iopub.status.busy": "2024-09-21T04:38:04.05086Z",
          "iopub.execute_input": "2024-09-21T04:38:04.051424Z",
          "iopub.status.idle": "2024-09-21T04:38:04.096678Z",
          "shell.execute_reply.started": "2024-09-21T04:38:04.051379Z",
          "shell.execute_reply": "2024-09-21T04:38:04.095181Z"
        },
        "trusted": true,
        "id": "ibdJWJ_Hd2-k",
        "outputId": "4281e531-5dbb-46ad-ebdd-ff4fa2122057"
      },
      "execution_count": null,
      "outputs": [
        {
          "execution_count": 44,
          "output_type": "execute_result",
          "data": {
            "text/plain": "      MSSubClass  MSZoning  LotFrontage  LotArea  Street  Alley  LotShape  \\\n0              0         0        141.0  31770.0       0      0         0   \n1              0         1         80.0  11622.0       0      0         1   \n2              0         0         81.0  14267.0       0      0         0   \n3              0         0         93.0  11160.0       0      0         1   \n4              1         0         74.0  13830.0       0      0         0   \n...          ...       ...          ...      ...     ...    ...       ...   \n2925           6         0         37.0   7937.0       0      0         0   \n2926           0         0          0.0   8885.0       0      0         0   \n2927           4         0         62.0  10441.0       0      0         1   \n2928           0         0         77.0  10010.0       0      0         1   \n2929           1         0         74.0   9627.0       0      0         1   \n\n      LandContour  Utilities  LotConfig  ...  Spaciousness  TotalOutsideSF  \\\n0               0          0          0  ...    236.571429           272.0   \n1               0          0          1  ...    179.200000           260.0   \n2               0          0          0  ...    221.500000           429.0   \n3               0          0          0  ...    263.750000             0.0   \n4               0          0          1  ...    271.500000           246.0   \n...           ...        ...        ...  ...           ...             ...   \n2925            0          0          2  ...    167.166667           120.0   \n2926            3          0          1  ...    180.400000           164.0   \n2927            0          0          1  ...    161.666667           112.0   \n2928            0          0          1  ...    231.500000           278.0   \n2929            0          0          1  ...    222.222222           238.0   \n\n      Bldg_Duplex  Bldg_OneFam  Bldg_Twnhs  Bldg_TwnhsE  Bldg_TwoFmCon  \\\n0             0.0       1656.0         0.0          0.0            0.0   \n1             0.0        896.0         0.0          0.0            0.0   \n2             0.0       1329.0         0.0          0.0            0.0   \n3             0.0       2110.0         0.0          0.0            0.0   \n4             0.0       1629.0         0.0          0.0            0.0   \n...           ...          ...         ...          ...            ...   \n2925          0.0       1003.0         0.0          0.0            0.0   \n2926          0.0        902.0         0.0          0.0            0.0   \n2927          0.0        970.0         0.0          0.0            0.0   \n2928          0.0       1389.0         0.0          0.0            0.0   \n2929          0.0       2000.0         0.0          0.0            0.0   \n\n      PorchTypes  MSClass  MedNhbdArea  \n0              2        0       1200.0  \n1              2        0       1200.0  \n2              2        0       1200.0  \n3              0        0       1200.0  \n4              2        1       1560.0  \n...          ...      ...          ...  \n2925           1        2       1282.0  \n2926           1        0       1282.0  \n2927           2        2       1282.0  \n2928           2        0       1282.0  \n2929           2        1       1282.0  \n\n[2930 rows x 89 columns]",
            "text/html": "<div>\n<style scoped>\n    .dataframe tbody tr th:only-of-type {\n        vertical-align: middle;\n    }\n\n    .dataframe tbody tr th {\n        vertical-align: top;\n    }\n\n    .dataframe thead th {\n        text-align: right;\n    }\n</style>\n<table border=\"1\" class=\"dataframe\">\n  <thead>\n    <tr style=\"text-align: right;\">\n      <th></th>\n      <th>MSSubClass</th>\n      <th>MSZoning</th>\n      <th>LotFrontage</th>\n      <th>LotArea</th>\n      <th>Street</th>\n      <th>Alley</th>\n      <th>LotShape</th>\n      <th>LandContour</th>\n      <th>Utilities</th>\n      <th>LotConfig</th>\n      <th>...</th>\n      <th>Spaciousness</th>\n      <th>TotalOutsideSF</th>\n      <th>Bldg_Duplex</th>\n      <th>Bldg_OneFam</th>\n      <th>Bldg_Twnhs</th>\n      <th>Bldg_TwnhsE</th>\n      <th>Bldg_TwoFmCon</th>\n      <th>PorchTypes</th>\n      <th>MSClass</th>\n      <th>MedNhbdArea</th>\n    </tr>\n  </thead>\n  <tbody>\n    <tr>\n      <th>0</th>\n      <td>0</td>\n      <td>0</td>\n      <td>141.0</td>\n      <td>31770.0</td>\n      <td>0</td>\n      <td>0</td>\n      <td>0</td>\n      <td>0</td>\n      <td>0</td>\n      <td>0</td>\n      <td>...</td>\n      <td>236.571429</td>\n      <td>272.0</td>\n      <td>0.0</td>\n      <td>1656.0</td>\n      <td>0.0</td>\n      <td>0.0</td>\n      <td>0.0</td>\n      <td>2</td>\n      <td>0</td>\n      <td>1200.0</td>\n    </tr>\n    <tr>\n      <th>1</th>\n      <td>0</td>\n      <td>1</td>\n      <td>80.0</td>\n      <td>11622.0</td>\n      <td>0</td>\n      <td>0</td>\n      <td>1</td>\n      <td>0</td>\n      <td>0</td>\n      <td>1</td>\n      <td>...</td>\n      <td>179.200000</td>\n      <td>260.0</td>\n      <td>0.0</td>\n      <td>896.0</td>\n      <td>0.0</td>\n      <td>0.0</td>\n      <td>0.0</td>\n      <td>2</td>\n      <td>0</td>\n      <td>1200.0</td>\n    </tr>\n    <tr>\n      <th>2</th>\n      <td>0</td>\n      <td>0</td>\n      <td>81.0</td>\n      <td>14267.0</td>\n      <td>0</td>\n      <td>0</td>\n      <td>0</td>\n      <td>0</td>\n      <td>0</td>\n      <td>0</td>\n      <td>...</td>\n      <td>221.500000</td>\n      <td>429.0</td>\n      <td>0.0</td>\n      <td>1329.0</td>\n      <td>0.0</td>\n      <td>0.0</td>\n      <td>0.0</td>\n      <td>2</td>\n      <td>0</td>\n      <td>1200.0</td>\n    </tr>\n    <tr>\n      <th>3</th>\n      <td>0</td>\n      <td>0</td>\n      <td>93.0</td>\n      <td>11160.0</td>\n      <td>0</td>\n      <td>0</td>\n      <td>1</td>\n      <td>0</td>\n      <td>0</td>\n      <td>0</td>\n      <td>...</td>\n      <td>263.750000</td>\n      <td>0.0</td>\n      <td>0.0</td>\n      <td>2110.0</td>\n      <td>0.0</td>\n      <td>0.0</td>\n      <td>0.0</td>\n      <td>0</td>\n      <td>0</td>\n      <td>1200.0</td>\n    </tr>\n    <tr>\n      <th>4</th>\n      <td>1</td>\n      <td>0</td>\n      <td>74.0</td>\n      <td>13830.0</td>\n      <td>0</td>\n      <td>0</td>\n      <td>0</td>\n      <td>0</td>\n      <td>0</td>\n      <td>1</td>\n      <td>...</td>\n      <td>271.500000</td>\n      <td>246.0</td>\n      <td>0.0</td>\n      <td>1629.0</td>\n      <td>0.0</td>\n      <td>0.0</td>\n      <td>0.0</td>\n      <td>2</td>\n      <td>1</td>\n      <td>1560.0</td>\n    </tr>\n    <tr>\n      <th>...</th>\n      <td>...</td>\n      <td>...</td>\n      <td>...</td>\n      <td>...</td>\n      <td>...</td>\n      <td>...</td>\n      <td>...</td>\n      <td>...</td>\n      <td>...</td>\n      <td>...</td>\n      <td>...</td>\n      <td>...</td>\n      <td>...</td>\n      <td>...</td>\n      <td>...</td>\n      <td>...</td>\n      <td>...</td>\n      <td>...</td>\n      <td>...</td>\n      <td>...</td>\n      <td>...</td>\n    </tr>\n    <tr>\n      <th>2925</th>\n      <td>6</td>\n      <td>0</td>\n      <td>37.0</td>\n      <td>7937.0</td>\n      <td>0</td>\n      <td>0</td>\n      <td>0</td>\n      <td>0</td>\n      <td>0</td>\n      <td>2</td>\n      <td>...</td>\n      <td>167.166667</td>\n      <td>120.0</td>\n      <td>0.0</td>\n      <td>1003.0</td>\n      <td>0.0</td>\n      <td>0.0</td>\n      <td>0.0</td>\n      <td>1</td>\n      <td>2</td>\n      <td>1282.0</td>\n    </tr>\n    <tr>\n      <th>2926</th>\n      <td>0</td>\n      <td>0</td>\n      <td>0.0</td>\n      <td>8885.0</td>\n      <td>0</td>\n      <td>0</td>\n      <td>0</td>\n      <td>3</td>\n      <td>0</td>\n      <td>1</td>\n      <td>...</td>\n      <td>180.400000</td>\n      <td>164.0</td>\n      <td>0.0</td>\n      <td>902.0</td>\n      <td>0.0</td>\n      <td>0.0</td>\n      <td>0.0</td>\n      <td>1</td>\n      <td>0</td>\n      <td>1282.0</td>\n    </tr>\n    <tr>\n      <th>2927</th>\n      <td>4</td>\n      <td>0</td>\n      <td>62.0</td>\n      <td>10441.0</td>\n      <td>0</td>\n      <td>0</td>\n      <td>1</td>\n      <td>0</td>\n      <td>0</td>\n      <td>1</td>\n      <td>...</td>\n      <td>161.666667</td>\n      <td>112.0</td>\n      <td>0.0</td>\n      <td>970.0</td>\n      <td>0.0</td>\n      <td>0.0</td>\n      <td>0.0</td>\n      <td>2</td>\n      <td>2</td>\n      <td>1282.0</td>\n    </tr>\n    <tr>\n      <th>2928</th>\n      <td>0</td>\n      <td>0</td>\n      <td>77.0</td>\n      <td>10010.0</td>\n      <td>0</td>\n      <td>0</td>\n      <td>1</td>\n      <td>0</td>\n      <td>0</td>\n      <td>1</td>\n      <td>...</td>\n      <td>231.500000</td>\n      <td>278.0</td>\n      <td>0.0</td>\n      <td>1389.0</td>\n      <td>0.0</td>\n      <td>0.0</td>\n      <td>0.0</td>\n      <td>2</td>\n      <td>0</td>\n      <td>1282.0</td>\n    </tr>\n    <tr>\n      <th>2929</th>\n      <td>1</td>\n      <td>0</td>\n      <td>74.0</td>\n      <td>9627.0</td>\n      <td>0</td>\n      <td>0</td>\n      <td>1</td>\n      <td>0</td>\n      <td>0</td>\n      <td>1</td>\n      <td>...</td>\n      <td>222.222222</td>\n      <td>238.0</td>\n      <td>0.0</td>\n      <td>2000.0</td>\n      <td>0.0</td>\n      <td>0.0</td>\n      <td>0.0</td>\n      <td>2</td>\n      <td>1</td>\n      <td>1282.0</td>\n    </tr>\n  </tbody>\n</table>\n<p>2930 rows × 89 columns</p>\n</div>"
          },
          "metadata": {}
        }
      ]
    },
    {
      "cell_type": "markdown",
      "source": [
        "# Keep Going #\n",
        "\n",
        "[**Untangle spatial relationships**](https://www.kaggle.com/ryanholbrook/clustering-with-k-means) by adding cluster labels to your dataset."
      ],
      "metadata": {
        "id": "9_MFqih-d2-l"
      }
    },
    {
      "cell_type": "markdown",
      "source": [
        "---\n",
        "\n",
        "\n",
        "\n",
        "\n",
        "*Have questions or comments? Visit the [course discussion forum](https://www.kaggle.com/learn/feature-engineering/discussion) to chat with other learners.*"
      ],
      "metadata": {
        "id": "GpnBQUM3d2-l"
      }
    }
  ]
}