{
  "metadata": {
    "jupytext": {
      "cell_metadata_filter": "-all",
      "formats": "ipynb"
    },
    "kernelspec": {
      "display_name": "Python 3",
      "language": "python",
      "name": "python3"
    },
    "language_info": {
      "name": "python",
      "version": "3.10.14",
      "mimetype": "text/x-python",
      "codemirror_mode": {
        "name": "ipython",
        "version": 3
      },
      "pygments_lexer": "ipython3",
      "nbconvert_exporter": "python",
      "file_extension": ".py"
    },
    "kaggle": {
      "accelerator": "none",
      "dataSources": [
        {
          "sourceId": 1828856,
          "sourceType": "datasetVersion",
          "datasetId": 933090
        }
      ],
      "isInternetEnabled": false,
      "language": "python",
      "sourceType": "notebook",
      "isGpuEnabled": false
    },
    "colab": {
      "name": "Exercise: Clustering With K-Means",
      "provenance": [],
      "include_colab_link": true
    }
  },
  "nbformat_minor": 0,
  "nbformat": 4,
  "cells": [
    {
      "cell_type": "markdown",
      "metadata": {
        "id": "view-in-github",
        "colab_type": "text"
      },
      "source": [
        "<a href=\"https://colab.research.google.com/github/T-Sunm/Learn-Feature-Engineering-in-Kaggle/blob/main/Exercise_Clustering_With_K_Means.ipynb\" target=\"_parent\"><img src=\"https://colab.research.google.com/assets/colab-badge.svg\" alt=\"Open In Colab\"/></a>"
      ]
    },
    {
      "source": [
        "\n",
        "# IMPORTANT: RUN THIS CELL IN ORDER TO IMPORT YOUR KAGGLE DATA SOURCES\n",
        "# TO THE CORRECT LOCATION (/kaggle/input) IN YOUR NOTEBOOK,\n",
        "# THEN FEEL FREE TO DELETE THIS CELL.\n",
        "# NOTE: THIS NOTEBOOK ENVIRONMENT DIFFERS FROM KAGGLE'S PYTHON\n",
        "# ENVIRONMENT SO THERE MAY BE MISSING LIBRARIES USED BY YOUR\n",
        "# NOTEBOOK.\n",
        "\n",
        "import os\n",
        "import sys\n",
        "from tempfile import NamedTemporaryFile\n",
        "from urllib.request import urlopen\n",
        "from urllib.parse import unquote, urlparse\n",
        "from urllib.error import HTTPError\n",
        "from zipfile import ZipFile\n",
        "import tarfile\n",
        "import shutil\n",
        "\n",
        "CHUNK_SIZE = 40960\n",
        "DATA_SOURCE_MAPPING = 'fe-course-data:https%3A%2F%2Fstorage.googleapis.com%2Fkaggle-data-sets%2F933090%2F1828856%2Fbundle%2Farchive.zip%3FX-Goog-Algorithm%3DGOOG4-RSA-SHA256%26X-Goog-Credential%3Dgcp-kaggle-com%2540kaggle-161607.iam.gserviceaccount.com%252F20240923%252Fauto%252Fstorage%252Fgoog4_request%26X-Goog-Date%3D20240923T151944Z%26X-Goog-Expires%3D259200%26X-Goog-SignedHeaders%3Dhost%26X-Goog-Signature%3D02507143d99077dc6ec84485d0806795d78a473a081f5a066b8aae5413194feb9f41ff9d4b0ef2e8e0a00d92ac8c50a573347d3eb5f1a3c4f1e2fea899a4ab6b67645d1a91916e381044b14eec98f7bfdfe842c5451ff63d95fde31f91b8ce8958f30ccdb68ab838f46741528920b343b06018dc78f0b241f973bc79dc21a55c32b92e31163fdd5e1130f5e3e276ecf12d78160429caab865ad43c2cd33e7fcd52fc2ccc68eecfe29f7cacae2575473ce64e85f2d5b7e729389d58a315bb6308e5dbb5d7eabe3bd179d983ef768efcbe9768d4faf27e583ac40024fea713f457379c4f7ca2911016130ba30e2f5c59ecc34294d00f8dbdba0c415a346110cce9'\n",
        "\n",
        "KAGGLE_INPUT_PATH='/kaggle/input'\n",
        "KAGGLE_WORKING_PATH='/kaggle/working'\n",
        "KAGGLE_SYMLINK='kaggle'\n",
        "\n",
        "!umount /kaggle/input/ 2> /dev/null\n",
        "shutil.rmtree('/kaggle/input', ignore_errors=True)\n",
        "os.makedirs(KAGGLE_INPUT_PATH, 0o777, exist_ok=True)\n",
        "os.makedirs(KAGGLE_WORKING_PATH, 0o777, exist_ok=True)\n",
        "\n",
        "try:\n",
        "  os.symlink(KAGGLE_INPUT_PATH, os.path.join(\"..\", 'input'), target_is_directory=True)\n",
        "except FileExistsError:\n",
        "  pass\n",
        "try:\n",
        "  os.symlink(KAGGLE_WORKING_PATH, os.path.join(\"..\", 'working'), target_is_directory=True)\n",
        "except FileExistsError:\n",
        "  pass\n",
        "\n",
        "for data_source_mapping in DATA_SOURCE_MAPPING.split(','):\n",
        "    directory, download_url_encoded = data_source_mapping.split(':')\n",
        "    download_url = unquote(download_url_encoded)\n",
        "    filename = urlparse(download_url).path\n",
        "    destination_path = os.path.join(KAGGLE_INPUT_PATH, directory)\n",
        "    try:\n",
        "        with urlopen(download_url) as fileres, NamedTemporaryFile() as tfile:\n",
        "            total_length = fileres.headers['content-length']\n",
        "            print(f'Downloading {directory}, {total_length} bytes compressed')\n",
        "            dl = 0\n",
        "            data = fileres.read(CHUNK_SIZE)\n",
        "            while len(data) > 0:\n",
        "                dl += len(data)\n",
        "                tfile.write(data)\n",
        "                done = int(50 * dl / int(total_length))\n",
        "                sys.stdout.write(f\"\\r[{'=' * done}{' ' * (50-done)}] {dl} bytes downloaded\")\n",
        "                sys.stdout.flush()\n",
        "                data = fileres.read(CHUNK_SIZE)\n",
        "            if filename.endswith('.zip'):\n",
        "              with ZipFile(tfile) as zfile:\n",
        "                zfile.extractall(destination_path)\n",
        "            else:\n",
        "              with tarfile.open(tfile.name) as tarfile:\n",
        "                tarfile.extractall(destination_path)\n",
        "            print(f'\\nDownloaded and uncompressed: {directory}')\n",
        "    except HTTPError as e:\n",
        "        print(f'Failed to load (likely expired) {download_url} to path {destination_path}')\n",
        "        continue\n",
        "    except OSError as e:\n",
        "        print(f'Failed to load {download_url} to path {destination_path}')\n",
        "        continue\n",
        "\n",
        "print('Data source import complete.')\n"
      ],
      "metadata": {
        "id": "FNzSqBapdxRk"
      },
      "cell_type": "code",
      "outputs": [],
      "execution_count": null
    },
    {
      "cell_type": "markdown",
      "source": [
        "**This notebook is an exercise in the [Feature Engineering](https://www.kaggle.com/learn/feature-engineering) course.  You can reference the tutorial at [this link](https://www.kaggle.com/ryanholbrook/clustering-with-k-means).**\n",
        "\n",
        "---\n"
      ],
      "metadata": {
        "id": "kTesRQ8jdxRn"
      }
    },
    {
      "cell_type": "markdown",
      "source": [
        "# Introduction #\n",
        "\n",
        "In this exercise you'll explore our first unsupervised learning technique for creating features, k-means clustering.\n",
        "\n",
        "Run this cell to set everything up!"
      ],
      "metadata": {
        "id": "gkqKll8jdxRo"
      }
    },
    {
      "cell_type": "code",
      "source": [
        "# Setup feedback system\n",
        "from learntools.core import binder\n",
        "binder.bind(globals())\n",
        "from learntools.feature_engineering_new.ex4 import *\n",
        "\n",
        "import matplotlib.pyplot as plt\n",
        "import numpy as np\n",
        "import pandas as pd\n",
        "import seaborn as sns\n",
        "from sklearn.cluster import KMeans\n",
        "from sklearn.model_selection import cross_val_score\n",
        "from xgboost import XGBRegressor\n",
        "\n",
        "# Set Matplotlib defaults\n",
        "plt.style.use(\"seaborn-whitegrid\")\n",
        "plt.rc(\"figure\", autolayout=True)\n",
        "plt.rc(\n",
        "    \"axes\",\n",
        "    labelweight=\"bold\",\n",
        "    labelsize=\"large\",\n",
        "    titleweight=\"bold\",\n",
        "    titlesize=14,\n",
        "    titlepad=10,\n",
        ")\n",
        "\n",
        "\n",
        "def score_dataset(X, y, model=XGBRegressor()):\n",
        "    # Label encoding for categoricals\n",
        "    for colname in X.select_dtypes([\"category\", \"object\"]):\n",
        "        X[colname], _ = X[colname].factorize()\n",
        "    # Metric for Housing competition is RMSLE (Root Mean Squared Log Error)\n",
        "    score = cross_val_score(\n",
        "        model, X, y, cv=5, scoring=\"neg_mean_squared_log_error\",\n",
        "    )\n",
        "    score = -1 * score.mean()\n",
        "    score = np.sqrt(score)\n",
        "    return score\n",
        "\n",
        "\n",
        "# Prepare data\n",
        "df = pd.read_csv(\"../input/fe-course-data/ames.csv\")"
      ],
      "metadata": {
        "execution": {
          "iopub.status.busy": "2024-09-23T15:11:10.963762Z",
          "iopub.execute_input": "2024-09-23T15:11:10.964298Z",
          "iopub.status.idle": "2024-09-23T15:11:11.04338Z",
          "shell.execute_reply.started": "2024-09-23T15:11:10.964253Z",
          "shell.execute_reply": "2024-09-23T15:11:11.04213Z"
        },
        "trusted": true,
        "id": "AEyl13pJdxRp"
      },
      "execution_count": null,
      "outputs": []
    },
    {
      "cell_type": "markdown",
      "source": [
        "The k-means algorithm is sensitive to scale. This means we need to be thoughtful about how and whether we rescale our features since we might get very different results depending on our choices. As a rule of thumb, if the features are already directly comparable (like a test result at different times), then you would *not* want to rescale. On the other hand, features that aren't on comparable scales (like height and weight) will usually benefit from rescaling. Sometimes, the choice won't be clear though. In that case, you should try to use common sense, remembering that features with larger values will be weighted more heavily.\n",
        "\n",
        "# 1) Scaling Features\n",
        "\n",
        "Consider the following sets of features. For each, decide whether:\n",
        "- they definitely should be rescaled,\n",
        "- they definitely should *not* be rescaled, or\n",
        "- either might be reasonable\n",
        "\n",
        "Features:\n",
        "1. `Latitude` and `Longitude` of cities in California\n",
        "2. `Lot Area` and `Living Area` of houses in Ames, Iowa\n",
        "3. `Number of Doors` and `Horsepower` of a 1989 model car\n",
        "\n",
        "Once you've thought about your answers, run the cell below for discussion."
      ],
      "metadata": {
        "id": "4kSzPr5FdxRq"
      }
    },
    {
      "cell_type": "code",
      "source": [
        "# View the solution (Run this cell to receive credit!)\n",
        "q_1.check()"
      ],
      "metadata": {
        "execution": {
          "iopub.status.busy": "2024-09-23T14:17:11.089601Z",
          "iopub.execute_input": "2024-09-23T14:17:11.090341Z",
          "iopub.status.idle": "2024-09-23T14:17:11.106856Z",
          "shell.execute_reply.started": "2024-09-23T14:17:11.090283Z",
          "shell.execute_reply": "2024-09-23T14:17:11.104691Z"
        },
        "trusted": true,
        "id": "9-fNMZIWdxRq"
      },
      "execution_count": null,
      "outputs": []
    },
    {
      "cell_type": "markdown",
      "source": [
        "-------------------------------------------------------------------------------\n",
        "\n",
        "# 2) Create a Feature of Cluster Labels\n",
        "\n",
        "Creating a k-means clustering with the following parameters:\n",
        "- features: `LotArea`, `TotalBsmtSF`, `FirstFlrSF`, `SecondFlrSF`,`GrLivArea`\n",
        "- number of clusters: 10\n",
        "- iterations: 10\n",
        "\n",
        "(This may take a moment to complete.)"
      ],
      "metadata": {
        "id": "355rzldCdxRr"
      }
    },
    {
      "cell_type": "code",
      "source": [
        "X = df.copy()\n",
        "y = X.pop(\"SalePrice\")\n",
        "\n",
        "\n",
        "# YOUR CODE HERE: Define a list of the features to be used for the clustering\n",
        "features = ['LotArea', 'TotalBsmtSF', 'FirstFlrSF', 'SecondFlrSF', 'GrLivArea']\n",
        "\n",
        "\n",
        "# Standardize\n",
        "X_scaled = X.loc[:, features]\n",
        "X_scaled = (X_scaled - X_scaled.mean(axis=0)) / X_scaled.std(axis=0)\n",
        "\n",
        "\n",
        "# YOUR CODE HERE: Fit the KMeans model to X_scaled and create the cluster labels\n",
        "kmeans = KMeans(n_init = 10, random_state=0, n_clusters = 10)\n",
        "X[\"Cluster\"] = kmeans.fit_predict(X_scaled)\n",
        "\n",
        "\n",
        "# Check your answer\n",
        "q_2.check()"
      ],
      "metadata": {
        "lines_to_next_cell": 0,
        "execution": {
          "iopub.status.busy": "2024-09-23T15:14:00.739255Z",
          "iopub.execute_input": "2024-09-23T15:14:00.739805Z",
          "iopub.status.idle": "2024-09-23T15:14:03.86041Z",
          "shell.execute_reply.started": "2024-09-23T15:14:00.739762Z",
          "shell.execute_reply": "2024-09-23T15:14:03.859016Z"
        },
        "trusted": true,
        "id": "_0B6oNjydxRr"
      },
      "execution_count": null,
      "outputs": []
    },
    {
      "cell_type": "code",
      "source": [
        "# Lines below will give you a hint or solution code\n",
        "#q_2.hint()\n",
        "# q_2.solution()"
      ],
      "metadata": {
        "lines_to_next_cell": 0,
        "execution": {
          "iopub.status.busy": "2024-09-23T14:39:56.215696Z",
          "iopub.execute_input": "2024-09-23T14:39:56.216287Z",
          "iopub.status.idle": "2024-09-23T14:39:56.223647Z",
          "shell.execute_reply.started": "2024-09-23T14:39:56.21623Z",
          "shell.execute_reply": "2024-09-23T14:39:56.221967Z"
        },
        "trusted": true,
        "id": "ICJv95V-dxRs"
      },
      "execution_count": null,
      "outputs": []
    },
    {
      "cell_type": "markdown",
      "source": [
        "You can run this cell to see the result of the clustering, if you like."
      ],
      "metadata": {
        "id": "16lTuXo5dxRs"
      }
    },
    {
      "cell_type": "code",
      "source": [
        "Xy = X.copy()\n",
        "Xy[\"Cluster\"] = Xy.Cluster.astype(\"category\")\n",
        "Xy[\"SalePrice\"] = y\n",
        "sns.relplot(\n",
        "    x=\"value\", y=\"SalePrice\", hue=\"Cluster\", col=\"variable\",\n",
        "    height=4, aspect=1, facet_kws={'sharex': False}, col_wrap=3,\n",
        "    data=Xy.melt(\n",
        "        value_vars=features, id_vars=[\"SalePrice\", \"Cluster\"],\n",
        "    ),\n",
        ");\n"
      ],
      "metadata": {
        "execution": {
          "iopub.status.busy": "2024-09-23T15:14:03.862828Z",
          "iopub.execute_input": "2024-09-23T15:14:03.867616Z",
          "iopub.status.idle": "2024-09-23T15:14:08.444236Z",
          "shell.execute_reply.started": "2024-09-23T15:14:03.867545Z",
          "shell.execute_reply": "2024-09-23T15:14:08.442564Z"
        },
        "trusted": true,
        "id": "ZkrfjMIkdxRs"
      },
      "execution_count": null,
      "outputs": []
    },
    {
      "cell_type": "markdown",
      "source": [
        "And as before, `score_dataset` will score your XGBoost model with this new feature added to training data."
      ],
      "metadata": {
        "id": "xolD86CidxRs"
      }
    },
    {
      "cell_type": "code",
      "source": [
        "score_dataset(X, y)"
      ],
      "metadata": {
        "execution": {
          "iopub.status.busy": "2024-09-23T14:43:04.629265Z",
          "iopub.execute_input": "2024-09-23T14:43:04.62984Z",
          "iopub.status.idle": "2024-09-23T14:43:08.854866Z",
          "shell.execute_reply.started": "2024-09-23T14:43:04.62979Z",
          "shell.execute_reply": "2024-09-23T14:43:08.853692Z"
        },
        "trusted": true,
        "id": "A8pG5ApOdxRt"
      },
      "execution_count": null,
      "outputs": []
    },
    {
      "cell_type": "markdown",
      "source": [
        "-------------------------------------------------------------------------------\n",
        "\n",
        "The k-means algorithm offers an alternative way of creating features. Instead of labelling each feature with the nearest cluster centroid, it can measure the distance from a point to all the centroids and return those distances as features.\n",
        "\n",
        "# 3) Cluster-Distance Features\n",
        "\n",
        "Now add the cluster-distance features to your dataset. You can get these distance features by using the `fit_transform` method of `kmeans` instead of `fit_predict`.\n",
        "\n",
        "- tìm khoảng cách từng sample đến tâm cụm - (lấy khoảng cách đến cluster nhỏ nhất)"
      ],
      "metadata": {
        "id": "CvehLlyjdxRt"
      }
    },
    {
      "cell_type": "code",
      "source": [
        "kmeans = KMeans(n_clusters=10, n_init=10, random_state=0)\n",
        "kmeans.fit_predict(X_scaled)\n",
        "# Ma trận khoảng cách từ mỗi điểm đến các tâm cụm\n",
        "distances = kmeans.transform(X_scaled)\n",
        "distances.shape"
      ],
      "metadata": {
        "execution": {
          "iopub.status.busy": "2024-09-23T15:14:08.44675Z",
          "iopub.execute_input": "2024-09-23T15:14:08.447304Z",
          "iopub.status.idle": "2024-09-23T15:14:09.792692Z",
          "shell.execute_reply.started": "2024-09-23T15:14:08.447253Z",
          "shell.execute_reply": "2024-09-23T15:14:09.791564Z"
        },
        "trusted": true,
        "id": "DmeX1iVFdxRt"
      },
      "execution_count": null,
      "outputs": []
    },
    {
      "cell_type": "code",
      "source": [
        "kmeans = KMeans(n_clusters=10, n_init=10, random_state=0)\n",
        "kmeans.fit_predict(X_scaled)\n",
        "# Ma trận khoảng cách từ mỗi điểm đến các tâm cụm\n",
        "distances = kmeans.transform(X_scaled)\n",
        "\n",
        "# YOUR CODE HERE: Create the cluster-distance features using `fit_transform`\n",
        "X_cd = distances\n",
        "\n",
        "\n",
        "# Label features and join to dataset\n",
        "X_cd = pd.DataFrame(X_cd, columns=[f\"Centroid_{i}\" for i in range(X_cd.shape[1])])\n",
        "X = X.join(X_cd)\n",
        "\n",
        "\n",
        "# Check your answer\n",
        "q_3.check()"
      ],
      "metadata": {
        "lines_to_next_cell": 0,
        "execution": {
          "iopub.status.busy": "2024-09-23T15:14:09.79867Z",
          "iopub.execute_input": "2024-09-23T15:14:09.799196Z",
          "iopub.status.idle": "2024-09-23T15:14:13.366662Z",
          "shell.execute_reply.started": "2024-09-23T15:14:09.799132Z",
          "shell.execute_reply": "2024-09-23T15:14:13.363702Z"
        },
        "trusted": true,
        "id": "KlfBcjtJdxRu"
      },
      "execution_count": null,
      "outputs": []
    },
    {
      "cell_type": "code",
      "source": [
        "# Lines below will give you a hint or solution code\n",
        "#q_3.hint()\n",
        "#q_3.solution()"
      ],
      "metadata": {
        "lines_to_next_cell": 0,
        "id": "dkqpdw4TdxRu"
      },
      "execution_count": null,
      "outputs": []
    },
    {
      "cell_type": "markdown",
      "source": [
        "Run this cell to score these new features, if you like."
      ],
      "metadata": {
        "id": "GoMCQWyBdxRu"
      }
    },
    {
      "cell_type": "markdown",
      "source": [
        "### Optional"
      ],
      "metadata": {
        "id": "yqPo0tQpdxRu"
      }
    },
    {
      "cell_type": "code",
      "source": [
        "kmeans = KMeans(n_clusters=10, n_init=10, random_state=0)\n",
        "kmeans.fit_predict(X_scaled)\n",
        "# Ma trận khoảng cách từ mỗi điểm đến các tâm cụm\n",
        "distances = kmeans.transform(X_scaled)\n",
        "X_cd = np.min(distances, axis=1)\n",
        "X_cd = pd.Series(X_cd, name='Cluster_Distance')\n",
        "X = X.join(X_cd)\n",
        "X.head()\n"
      ],
      "metadata": {
        "execution": {
          "iopub.status.busy": "2024-09-23T15:12:07.750952Z",
          "iopub.execute_input": "2024-09-23T15:12:07.75166Z",
          "iopub.status.idle": "2024-09-23T15:12:09.210658Z",
          "shell.execute_reply.started": "2024-09-23T15:12:07.751598Z",
          "shell.execute_reply": "2024-09-23T15:12:09.20834Z"
        },
        "trusted": true,
        "id": "StQek2F0dxRu"
      },
      "execution_count": null,
      "outputs": []
    },
    {
      "cell_type": "code",
      "source": [],
      "metadata": {
        "execution": {
          "iopub.status.busy": "2024-09-23T15:12:12.198096Z",
          "iopub.execute_input": "2024-09-23T15:12:12.198796Z",
          "iopub.status.idle": "2024-09-23T15:12:12.239723Z",
          "shell.execute_reply.started": "2024-09-23T15:12:12.19873Z",
          "shell.execute_reply": "2024-09-23T15:12:12.23808Z"
        },
        "trusted": true,
        "id": "6xIkzrIQdxRu"
      },
      "execution_count": null,
      "outputs": []
    },
    {
      "cell_type": "code",
      "source": [
        "score_dataset(X, y)"
      ],
      "metadata": {
        "execution": {
          "iopub.status.busy": "2024-09-23T15:12:23.696456Z",
          "iopub.execute_input": "2024-09-23T15:12:23.696968Z",
          "iopub.status.idle": "2024-09-23T15:12:26.416207Z",
          "shell.execute_reply.started": "2024-09-23T15:12:23.696925Z",
          "shell.execute_reply": "2024-09-23T15:12:26.414913Z"
        },
        "trusted": true,
        "id": "qmLa7IX2dxRu"
      },
      "execution_count": null,
      "outputs": []
    },
    {
      "cell_type": "markdown",
      "source": [
        "# Keep Going #\n",
        "\n",
        "[**Apply principal components analysis**](https://www.kaggle.com/ryanholbrook/principal-component-analysis) to create features from variation in your data."
      ],
      "metadata": {
        "id": "Fe21UQ8mdxRv"
      }
    },
    {
      "cell_type": "markdown",
      "source": [
        "---\n",
        "\n",
        "\n",
        "\n",
        "\n",
        "*Have questions or comments? Visit the [course discussion forum](https://www.kaggle.com/learn/feature-engineering/discussion) to chat with other learners.*"
      ],
      "metadata": {
        "id": "keW8MVMrdxRv"
      }
    }
  ]
}